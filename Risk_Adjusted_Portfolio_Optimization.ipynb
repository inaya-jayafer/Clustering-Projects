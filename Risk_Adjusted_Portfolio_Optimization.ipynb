{
  "nbformat": 4,
  "nbformat_minor": 0,
  "metadata": {
    "colab": {
      "provenance": []
    },
    "kernelspec": {
      "name": "python3",
      "display_name": "Python 3"
    },
    "language_info": {
      "name": "python"
    },
    "widgets": {
      "application/vnd.jupyter.widget-state+json": {
        "7611a9ab51f2439f870df1b40827c700": {
          "model_module": "@jupyter-widgets/controls",
          "model_name": "VBoxModel",
          "model_module_version": "1.5.0",
          "state": {
            "_dom_classes": [
              "widget-interact"
            ],
            "_model_module": "@jupyter-widgets/controls",
            "_model_module_version": "1.5.0",
            "_model_name": "VBoxModel",
            "_view_count": null,
            "_view_module": "@jupyter-widgets/controls",
            "_view_module_version": "1.5.0",
            "_view_name": "VBoxView",
            "box_style": "",
            "children": [
              "IPY_MODEL_5870e8a6f30544c189ecaddcfd80dea0",
              "IPY_MODEL_9f9b66fc258e4c75b0daae70250839fe",
              "IPY_MODEL_a27378b5ac5d438da1f4c112c497693a",
              "IPY_MODEL_f04c64380b254b2a925aa2bdacac61ca"
            ],
            "layout": "IPY_MODEL_32437855caf64fb89c3e4caba3077348"
          }
        },
        "5870e8a6f30544c189ecaddcfd80dea0": {
          "model_module": "@jupyter-widgets/controls",
          "model_name": "FloatSliderModel",
          "model_module_version": "1.5.0",
          "state": {
            "_dom_classes": [],
            "_model_module": "@jupyter-widgets/controls",
            "_model_module_version": "1.5.0",
            "_model_name": "FloatSliderModel",
            "_view_count": null,
            "_view_module": "@jupyter-widgets/controls",
            "_view_module_version": "1.5.0",
            "_view_name": "FloatSliderView",
            "continuous_update": true,
            "description": "Risk-Free Rate",
            "description_tooltip": null,
            "disabled": false,
            "layout": "IPY_MODEL_56413c241668484fb99bcb456b5ec676",
            "max": 0.1,
            "min": 0,
            "orientation": "horizontal",
            "readout": true,
            "readout_format": ".2f",
            "step": 0.01,
            "style": "IPY_MODEL_3cf7733e7e53468ebf289c6db43716e7",
            "value": 0.04
          }
        },
        "9f9b66fc258e4c75b0daae70250839fe": {
          "model_module": "@jupyter-widgets/controls",
          "model_name": "FloatSliderModel",
          "model_module_version": "1.5.0",
          "state": {
            "_dom_classes": [],
            "_model_module": "@jupyter-widgets/controls",
            "_model_module_version": "1.5.0",
            "_model_name": "FloatSliderModel",
            "_view_count": null,
            "_view_module": "@jupyter-widgets/controls",
            "_view_module_version": "1.5.0",
            "_view_name": "FloatSliderView",
            "continuous_update": true,
            "description": "Market Return",
            "description_tooltip": null,
            "disabled": false,
            "layout": "IPY_MODEL_0ec64673491a4396be1f950ef5e91658",
            "max": 0.2,
            "min": 0,
            "orientation": "horizontal",
            "readout": true,
            "readout_format": ".2f",
            "step": 0.01,
            "style": "IPY_MODEL_8af2f17050f6440cbb0de2c2bda1a584",
            "value": 0.1
          }
        },
        "a27378b5ac5d438da1f4c112c497693a": {
          "model_module": "@jupyter-widgets/controls",
          "model_name": "FloatSliderModel",
          "model_module_version": "1.5.0",
          "state": {
            "_dom_classes": [],
            "_model_module": "@jupyter-widgets/controls",
            "_model_module_version": "1.5.0",
            "_model_name": "FloatSliderModel",
            "_view_count": null,
            "_view_module": "@jupyter-widgets/controls",
            "_view_module_version": "1.5.0",
            "_view_name": "FloatSliderView",
            "continuous_update": true,
            "description": "Beta",
            "description_tooltip": null,
            "disabled": false,
            "layout": "IPY_MODEL_84e5808f735e4383bad1dff033584d2a",
            "max": 2,
            "min": 0,
            "orientation": "horizontal",
            "readout": true,
            "readout_format": ".2f",
            "step": 0.1,
            "style": "IPY_MODEL_c9de6d640b29492fac1de40e67240853",
            "value": 1.3
          }
        },
        "f04c64380b254b2a925aa2bdacac61ca": {
          "model_module": "@jupyter-widgets/output",
          "model_name": "OutputModel",
          "model_module_version": "1.0.0",
          "state": {
            "_dom_classes": [],
            "_model_module": "@jupyter-widgets/output",
            "_model_module_version": "1.0.0",
            "_model_name": "OutputModel",
            "_view_count": null,
            "_view_module": "@jupyter-widgets/output",
            "_view_module_version": "1.0.0",
            "_view_name": "OutputView",
            "layout": "IPY_MODEL_2fd5c025e086400cab5c1255cb0a36e8",
            "msg_id": "",
            "outputs": [
              {
                "output_type": "stream",
                "name": "stdout",
                "text": [
                  "Expected Return: 11.80%\n"
                ]
              }
            ]
          }
        },
        "32437855caf64fb89c3e4caba3077348": {
          "model_module": "@jupyter-widgets/base",
          "model_name": "LayoutModel",
          "model_module_version": "1.2.0",
          "state": {
            "_model_module": "@jupyter-widgets/base",
            "_model_module_version": "1.2.0",
            "_model_name": "LayoutModel",
            "_view_count": null,
            "_view_module": "@jupyter-widgets/base",
            "_view_module_version": "1.2.0",
            "_view_name": "LayoutView",
            "align_content": null,
            "align_items": null,
            "align_self": null,
            "border": null,
            "bottom": null,
            "display": null,
            "flex": null,
            "flex_flow": null,
            "grid_area": null,
            "grid_auto_columns": null,
            "grid_auto_flow": null,
            "grid_auto_rows": null,
            "grid_column": null,
            "grid_gap": null,
            "grid_row": null,
            "grid_template_areas": null,
            "grid_template_columns": null,
            "grid_template_rows": null,
            "height": null,
            "justify_content": null,
            "justify_items": null,
            "left": null,
            "margin": null,
            "max_height": null,
            "max_width": null,
            "min_height": null,
            "min_width": null,
            "object_fit": null,
            "object_position": null,
            "order": null,
            "overflow": null,
            "overflow_x": null,
            "overflow_y": null,
            "padding": null,
            "right": null,
            "top": null,
            "visibility": null,
            "width": null
          }
        },
        "56413c241668484fb99bcb456b5ec676": {
          "model_module": "@jupyter-widgets/base",
          "model_name": "LayoutModel",
          "model_module_version": "1.2.0",
          "state": {
            "_model_module": "@jupyter-widgets/base",
            "_model_module_version": "1.2.0",
            "_model_name": "LayoutModel",
            "_view_count": null,
            "_view_module": "@jupyter-widgets/base",
            "_view_module_version": "1.2.0",
            "_view_name": "LayoutView",
            "align_content": null,
            "align_items": null,
            "align_self": null,
            "border": null,
            "bottom": null,
            "display": null,
            "flex": null,
            "flex_flow": null,
            "grid_area": null,
            "grid_auto_columns": null,
            "grid_auto_flow": null,
            "grid_auto_rows": null,
            "grid_column": null,
            "grid_gap": null,
            "grid_row": null,
            "grid_template_areas": null,
            "grid_template_columns": null,
            "grid_template_rows": null,
            "height": null,
            "justify_content": null,
            "justify_items": null,
            "left": null,
            "margin": null,
            "max_height": null,
            "max_width": null,
            "min_height": null,
            "min_width": null,
            "object_fit": null,
            "object_position": null,
            "order": null,
            "overflow": null,
            "overflow_x": null,
            "overflow_y": null,
            "padding": null,
            "right": null,
            "top": null,
            "visibility": null,
            "width": null
          }
        },
        "3cf7733e7e53468ebf289c6db43716e7": {
          "model_module": "@jupyter-widgets/controls",
          "model_name": "SliderStyleModel",
          "model_module_version": "1.5.0",
          "state": {
            "_model_module": "@jupyter-widgets/controls",
            "_model_module_version": "1.5.0",
            "_model_name": "SliderStyleModel",
            "_view_count": null,
            "_view_module": "@jupyter-widgets/base",
            "_view_module_version": "1.2.0",
            "_view_name": "StyleView",
            "description_width": "",
            "handle_color": null
          }
        },
        "0ec64673491a4396be1f950ef5e91658": {
          "model_module": "@jupyter-widgets/base",
          "model_name": "LayoutModel",
          "model_module_version": "1.2.0",
          "state": {
            "_model_module": "@jupyter-widgets/base",
            "_model_module_version": "1.2.0",
            "_model_name": "LayoutModel",
            "_view_count": null,
            "_view_module": "@jupyter-widgets/base",
            "_view_module_version": "1.2.0",
            "_view_name": "LayoutView",
            "align_content": null,
            "align_items": null,
            "align_self": null,
            "border": null,
            "bottom": null,
            "display": null,
            "flex": null,
            "flex_flow": null,
            "grid_area": null,
            "grid_auto_columns": null,
            "grid_auto_flow": null,
            "grid_auto_rows": null,
            "grid_column": null,
            "grid_gap": null,
            "grid_row": null,
            "grid_template_areas": null,
            "grid_template_columns": null,
            "grid_template_rows": null,
            "height": null,
            "justify_content": null,
            "justify_items": null,
            "left": null,
            "margin": null,
            "max_height": null,
            "max_width": null,
            "min_height": null,
            "min_width": null,
            "object_fit": null,
            "object_position": null,
            "order": null,
            "overflow": null,
            "overflow_x": null,
            "overflow_y": null,
            "padding": null,
            "right": null,
            "top": null,
            "visibility": null,
            "width": null
          }
        },
        "8af2f17050f6440cbb0de2c2bda1a584": {
          "model_module": "@jupyter-widgets/controls",
          "model_name": "SliderStyleModel",
          "model_module_version": "1.5.0",
          "state": {
            "_model_module": "@jupyter-widgets/controls",
            "_model_module_version": "1.5.0",
            "_model_name": "SliderStyleModel",
            "_view_count": null,
            "_view_module": "@jupyter-widgets/base",
            "_view_module_version": "1.2.0",
            "_view_name": "StyleView",
            "description_width": "",
            "handle_color": null
          }
        },
        "84e5808f735e4383bad1dff033584d2a": {
          "model_module": "@jupyter-widgets/base",
          "model_name": "LayoutModel",
          "model_module_version": "1.2.0",
          "state": {
            "_model_module": "@jupyter-widgets/base",
            "_model_module_version": "1.2.0",
            "_model_name": "LayoutModel",
            "_view_count": null,
            "_view_module": "@jupyter-widgets/base",
            "_view_module_version": "1.2.0",
            "_view_name": "LayoutView",
            "align_content": null,
            "align_items": null,
            "align_self": null,
            "border": null,
            "bottom": null,
            "display": null,
            "flex": null,
            "flex_flow": null,
            "grid_area": null,
            "grid_auto_columns": null,
            "grid_auto_flow": null,
            "grid_auto_rows": null,
            "grid_column": null,
            "grid_gap": null,
            "grid_row": null,
            "grid_template_areas": null,
            "grid_template_columns": null,
            "grid_template_rows": null,
            "height": null,
            "justify_content": null,
            "justify_items": null,
            "left": null,
            "margin": null,
            "max_height": null,
            "max_width": null,
            "min_height": null,
            "min_width": null,
            "object_fit": null,
            "object_position": null,
            "order": null,
            "overflow": null,
            "overflow_x": null,
            "overflow_y": null,
            "padding": null,
            "right": null,
            "top": null,
            "visibility": null,
            "width": null
          }
        },
        "c9de6d640b29492fac1de40e67240853": {
          "model_module": "@jupyter-widgets/controls",
          "model_name": "SliderStyleModel",
          "model_module_version": "1.5.0",
          "state": {
            "_model_module": "@jupyter-widgets/controls",
            "_model_module_version": "1.5.0",
            "_model_name": "SliderStyleModel",
            "_view_count": null,
            "_view_module": "@jupyter-widgets/base",
            "_view_module_version": "1.2.0",
            "_view_name": "StyleView",
            "description_width": "",
            "handle_color": null
          }
        },
        "2fd5c025e086400cab5c1255cb0a36e8": {
          "model_module": "@jupyter-widgets/base",
          "model_name": "LayoutModel",
          "model_module_version": "1.2.0",
          "state": {
            "_model_module": "@jupyter-widgets/base",
            "_model_module_version": "1.2.0",
            "_model_name": "LayoutModel",
            "_view_count": null,
            "_view_module": "@jupyter-widgets/base",
            "_view_module_version": "1.2.0",
            "_view_name": "LayoutView",
            "align_content": null,
            "align_items": null,
            "align_self": null,
            "border": null,
            "bottom": null,
            "display": null,
            "flex": null,
            "flex_flow": null,
            "grid_area": null,
            "grid_auto_columns": null,
            "grid_auto_flow": null,
            "grid_auto_rows": null,
            "grid_column": null,
            "grid_gap": null,
            "grid_row": null,
            "grid_template_areas": null,
            "grid_template_columns": null,
            "grid_template_rows": null,
            "height": null,
            "justify_content": null,
            "justify_items": null,
            "left": null,
            "margin": null,
            "max_height": null,
            "max_width": null,
            "min_height": null,
            "min_width": null,
            "object_fit": null,
            "object_position": null,
            "order": null,
            "overflow": null,
            "overflow_x": null,
            "overflow_y": null,
            "padding": null,
            "right": null,
            "top": null,
            "visibility": null,
            "width": null
          }
        }
      }
    }
  },
  "cells": [
    {
      "cell_type": "code",
      "source": [
        "pip install yfinance"
      ],
      "metadata": {
        "colab": {
          "base_uri": "https://localhost:8080/"
        },
        "id": "W7YSgdb6fUFa",
        "outputId": "8a89839c-b4ef-49ea-ad9c-ba0678467b6d"
      },
      "execution_count": 15,
      "outputs": [
        {
          "output_type": "stream",
          "name": "stdout",
          "text": [
            "Requirement already satisfied: yfinance in /usr/local/lib/python3.10/dist-packages (0.2.35)\n",
            "Requirement already satisfied: pandas>=1.3.0 in /usr/local/lib/python3.10/dist-packages (from yfinance) (1.5.3)\n",
            "Requirement already satisfied: numpy>=1.16.5 in /usr/local/lib/python3.10/dist-packages (from yfinance) (1.23.5)\n",
            "Requirement already satisfied: requests>=2.31 in /usr/local/lib/python3.10/dist-packages (from yfinance) (2.31.0)\n",
            "Requirement already satisfied: multitasking>=0.0.7 in /usr/local/lib/python3.10/dist-packages (from yfinance) (0.0.11)\n",
            "Requirement already satisfied: lxml>=4.9.1 in /usr/local/lib/python3.10/dist-packages (from yfinance) (4.9.4)\n",
            "Requirement already satisfied: appdirs>=1.4.4 in /usr/local/lib/python3.10/dist-packages (from yfinance) (1.4.4)\n",
            "Requirement already satisfied: pytz>=2022.5 in /usr/local/lib/python3.10/dist-packages (from yfinance) (2023.3.post1)\n",
            "Requirement already satisfied: frozendict>=2.3.4 in /usr/local/lib/python3.10/dist-packages (from yfinance) (2.4.0)\n",
            "Requirement already satisfied: peewee>=3.16.2 in /usr/local/lib/python3.10/dist-packages (from yfinance) (3.17.0)\n",
            "Requirement already satisfied: beautifulsoup4>=4.11.1 in /usr/local/lib/python3.10/dist-packages (from yfinance) (4.11.2)\n",
            "Requirement already satisfied: html5lib>=1.1 in /usr/local/lib/python3.10/dist-packages (from yfinance) (1.1)\n",
            "Requirement already satisfied: soupsieve>1.2 in /usr/local/lib/python3.10/dist-packages (from beautifulsoup4>=4.11.1->yfinance) (2.5)\n",
            "Requirement already satisfied: six>=1.9 in /usr/local/lib/python3.10/dist-packages (from html5lib>=1.1->yfinance) (1.16.0)\n",
            "Requirement already satisfied: webencodings in /usr/local/lib/python3.10/dist-packages (from html5lib>=1.1->yfinance) (0.5.1)\n",
            "Requirement already satisfied: python-dateutil>=2.8.1 in /usr/local/lib/python3.10/dist-packages (from pandas>=1.3.0->yfinance) (2.8.2)\n",
            "Requirement already satisfied: charset-normalizer<4,>=2 in /usr/local/lib/python3.10/dist-packages (from requests>=2.31->yfinance) (3.3.2)\n",
            "Requirement already satisfied: idna<4,>=2.5 in /usr/local/lib/python3.10/dist-packages (from requests>=2.31->yfinance) (3.6)\n",
            "Requirement already satisfied: urllib3<3,>=1.21.1 in /usr/local/lib/python3.10/dist-packages (from requests>=2.31->yfinance) (2.0.7)\n",
            "Requirement already satisfied: certifi>=2017.4.17 in /usr/local/lib/python3.10/dist-packages (from requests>=2.31->yfinance) (2023.11.17)\n"
          ]
        }
      ]
    },
    {
      "cell_type": "code",
      "source": [
        "pip install --upgrade pandas_datareader"
      ],
      "metadata": {
        "colab": {
          "base_uri": "https://localhost:8080/"
        },
        "id": "JBIqZKLTfE9I",
        "outputId": "eb601ca5-cb79-4930-86e5-6151dc593638"
      },
      "execution_count": 17,
      "outputs": [
        {
          "output_type": "stream",
          "name": "stdout",
          "text": [
            "Requirement already satisfied: pandas_datareader in /usr/local/lib/python3.10/dist-packages (0.10.0)\n",
            "Requirement already satisfied: lxml in /usr/local/lib/python3.10/dist-packages (from pandas_datareader) (4.9.4)\n",
            "Requirement already satisfied: pandas>=0.23 in /usr/local/lib/python3.10/dist-packages (from pandas_datareader) (1.5.3)\n",
            "Requirement already satisfied: requests>=2.19.0 in /usr/local/lib/python3.10/dist-packages (from pandas_datareader) (2.31.0)\n",
            "Requirement already satisfied: python-dateutil>=2.8.1 in /usr/local/lib/python3.10/dist-packages (from pandas>=0.23->pandas_datareader) (2.8.2)\n",
            "Requirement already satisfied: pytz>=2020.1 in /usr/local/lib/python3.10/dist-packages (from pandas>=0.23->pandas_datareader) (2023.3.post1)\n",
            "Requirement already satisfied: numpy>=1.21.0 in /usr/local/lib/python3.10/dist-packages (from pandas>=0.23->pandas_datareader) (1.23.5)\n",
            "Requirement already satisfied: charset-normalizer<4,>=2 in /usr/local/lib/python3.10/dist-packages (from requests>=2.19.0->pandas_datareader) (3.3.2)\n",
            "Requirement already satisfied: idna<4,>=2.5 in /usr/local/lib/python3.10/dist-packages (from requests>=2.19.0->pandas_datareader) (3.6)\n",
            "Requirement already satisfied: urllib3<3,>=1.21.1 in /usr/local/lib/python3.10/dist-packages (from requests>=2.19.0->pandas_datareader) (2.0.7)\n",
            "Requirement already satisfied: certifi>=2017.4.17 in /usr/local/lib/python3.10/dist-packages (from requests>=2.19.0->pandas_datareader) (2023.11.17)\n",
            "Requirement already satisfied: six>=1.5 in /usr/local/lib/python3.10/dist-packages (from python-dateutil>=2.8.1->pandas>=0.23->pandas_datareader) (1.16.0)\n"
          ]
        }
      ]
    },
    {
      "cell_type": "code",
      "source": [
        "import pandas as pd\n",
        "import numpy as np\n",
        "import matplotlib.pyplot as plt\n",
        "import pandas_datareader as pdr\n",
        "import yfinance as yf\n",
        "import statsmodels.api as sm"
      ],
      "metadata": {
        "id": "GxaPvsh5d52k"
      },
      "execution_count": 24,
      "outputs": []
    },
    {
      "cell_type": "code",
      "source": [
        "# Define the stock symbol and date range\n",
        "symbol = 'AAPL'\n",
        "start_date = '2020-01-01'\n",
        "end_date = '2022-01-01'\n",
        "\n",
        "# Fetch historical data using yfinance\n",
        "stock_data = yf.download(symbol, start=start_date, end=end_date)\n",
        "\n",
        "# Print the obtained data\n",
        "print(stock_data)"
      ],
      "metadata": {
        "colab": {
          "base_uri": "https://localhost:8080/"
        },
        "id": "NQ0AiI2LfnX6",
        "outputId": "7c0e62c9-d3d4-4107-bce6-9ac9347e4a6c"
      },
      "execution_count": 42,
      "outputs": [
        {
          "output_type": "stream",
          "name": "stderr",
          "text": [
            "\r[*********************100%%**********************]  1 of 1 completed"
          ]
        },
        {
          "output_type": "stream",
          "name": "stdout",
          "text": [
            "                  Open        High         Low       Close   Adj Close  \\\n",
            "Date                                                                     \n",
            "2020-01-02   74.059998   75.150002   73.797501   75.087502   73.152657   \n",
            "2020-01-03   74.287498   75.144997   74.125000   74.357498   72.441460   \n",
            "2020-01-06   73.447502   74.989998   73.187500   74.949997   73.018677   \n",
            "2020-01-07   74.959999   75.224998   74.370003   74.597504   72.675278   \n",
            "2020-01-08   74.290001   76.110001   74.290001   75.797501   73.844337   \n",
            "...                ...         ...         ...         ...         ...   \n",
            "2021-12-27  177.089996  180.419998  177.070007  180.330002  178.292877   \n",
            "2021-12-28  180.160004  181.330002  178.529999  179.289993  177.264618   \n",
            "2021-12-29  179.330002  180.630005  178.139999  179.380005  177.353607   \n",
            "2021-12-30  179.470001  180.570007  178.089996  178.199997  176.186935   \n",
            "2021-12-31  178.089996  179.229996  177.259995  177.570007  175.564041   \n",
            "\n",
            "               Volume  \n",
            "Date                   \n",
            "2020-01-02  135480400  \n",
            "2020-01-03  146322800  \n",
            "2020-01-06  118387200  \n",
            "2020-01-07  108872000  \n",
            "2020-01-08  132079200  \n",
            "...               ...  \n",
            "2021-12-27   74919600  \n",
            "2021-12-28   79144300  \n",
            "2021-12-29   62348900  \n",
            "2021-12-30   59773000  \n",
            "2021-12-31   64062300  \n",
            "\n",
            "[505 rows x 6 columns]\n"
          ]
        },
        {
          "output_type": "stream",
          "name": "stderr",
          "text": [
            "\n"
          ]
        }
      ]
    },
    {
      "cell_type": "code",
      "source": [
        "# Export data to Excel\n",
        "excel_filename = 'stock_data.xlsx'\n",
        "stock_data.to_excel(excel_filename)\n",
        "print(f'Data exported to {excel_filename}')"
      ],
      "metadata": {
        "colab": {
          "base_uri": "https://localhost:8080/"
        },
        "id": "HPvXUA4mgu1w",
        "outputId": "a6c1ff15-9db0-42c9-c5da-ae1ec74ba155"
      },
      "execution_count": 43,
      "outputs": [
        {
          "output_type": "stream",
          "name": "stdout",
          "text": [
            "Data exported to stock_data.xlsx\n"
          ]
        }
      ]
    },
    {
      "cell_type": "markdown",
      "source": [
        "# **Calculating Alpha, Beta and Sharpe Ratios**"
      ],
      "metadata": {
        "id": "mAgMoXVu6NrT"
      }
    },
    {
      "cell_type": "code",
      "source": [
        "# Calculate daily returns\n",
        "stock_data['Daily Returns'] = stock_data['Adj Close'].pct_change()\n",
        "\n",
        "# Fetch S&P 500 data for market returns\n",
        "market_data = yf.download('^GSPC', start=start_date, end=end_date)\n",
        "market_data['Daily Returns'] = market_data['Adj Close'].pct_change()\n",
        "\n",
        "# Calculate market return\n",
        "market_return = market_data['Daily Returns'].mean()\n",
        "\n",
        "# Merge stock and market data\n",
        "merged_data = pd.merge(stock_data[['Daily Returns']], market_data[['Daily Returns']], left_index=True, right_index=True, suffixes=('_stock', '_market'))\n",
        "\n",
        "# Drop missing values\n",
        "merged_data = merged_data.dropna()\n",
        "\n",
        "# Extract dependent and independent variables\n",
        "y = merged_data['Daily Returns_stock']\n",
        "X = sm.add_constant(merged_data['Daily Returns_market'])\n",
        "\n",
        "# Calculate alpha and beta using linear regression\n",
        "model = sm.OLS(y, X).fit()\n",
        "alpha, beta = model.params['const'], model.params['Daily Returns_market']\n",
        "\n",
        "# Calculate Sharpe ratio\n",
        "risk_free_rate = 0.01\n",
        "sharpe_ratio = (np.mean(y - risk_free_rate) / np.std(y))\n",
        "\n",
        "# Print the results\n",
        "print(f'Market Return: {market_return:.6f}')\n",
        "print(f'Alpha: {alpha:.6f}')\n",
        "print(f'Beta: {beta:.6f}')\n",
        "print(f'Sharpe Ratio: {sharpe_ratio:.6f}')\n"
      ],
      "metadata": {
        "colab": {
          "base_uri": "https://localhost:8080/"
        },
        "id": "cXNzlU1qiQnn",
        "outputId": "6b338ea9-7797-4030-cdd0-93331137ea3c"
      },
      "execution_count": 82,
      "outputs": [
        {
          "output_type": "stream",
          "name": "stderr",
          "text": [
            "\r[*********************100%%**********************]  1 of 1 completed"
          ]
        },
        {
          "output_type": "stream",
          "name": "stdout",
          "text": [
            "Market Return: 0.001057\n",
            "Alpha: 0.000045\n",
            "Beta: 1.309363\n",
            "Sharpe Ratio: -0.544000\n"
          ]
        },
        {
          "output_type": "stream",
          "name": "stderr",
          "text": [
            "\n"
          ]
        }
      ]
    },
    {
      "cell_type": "markdown",
      "source": [
        "# **CAPM Calculation**"
      ],
      "metadata": {
        "id": "dXHj9LwjjJQ9"
      }
    },
    {
      "cell_type": "code",
      "source": [
        "# Variables required for CAPM calculation\n",
        "risk_free_rate = 0.01\n",
        "market_return = 0.001057\n",
        "beta = 1.309363\n",
        "\n",
        "# Convert the risk-free rate, market return, and beta to decimals\n",
        "risk_free_rate /= 100\n",
        "market_return /= 100\n",
        "\n",
        "# Display the converted values\n",
        "print(f\"Converted Risk-Free Rate: {risk_free_rate}\")\n",
        "print(f\"Converted Market Return: {market_return}\")"
      ],
      "metadata": {
        "colab": {
          "base_uri": "https://localhost:8080/"
        },
        "id": "DZRzLAxkjJ6Y",
        "outputId": "a154c209-e0c6-477d-83b1-ca47d6f20506"
      },
      "execution_count": 61,
      "outputs": [
        {
          "output_type": "stream",
          "name": "stdout",
          "text": [
            "Converted Risk-Free Rate: 0.0001\n",
            "Converted Market Return: 1.057e-05\n"
          ]
        }
      ]
    },
    {
      "cell_type": "code",
      "source": [
        "# Variables required for CAPM calculation\n",
        "risk_free_rate = 0.01\n",
        "market_return = 0.001057\n",
        "beta = 1.309363\n",
        "\n",
        "# Convert the decimal values to percentages\n",
        "risk_free_rate_percentage = risk_free_rate * 100\n",
        "market_return_percentage = market_return * 100\n",
        "beta_percentage= beta * 100\n",
        "\n",
        "# Display the converted values\n",
        "print(f\"Converted Risk-Free Rate: {risk_free_rate_percentage}%\")\n",
        "print(f\"Converted Market Return: {market_return_percentage}%\")\n",
        "print(f\"Converted Beta: {beta_percentage}%\")"
      ],
      "metadata": {
        "colab": {
          "base_uri": "https://localhost:8080/"
        },
        "id": "N4ZKrIhcmaJ6",
        "outputId": "3cc77661-1d90-42f2-8d75-3be4d2ea2ccf"
      },
      "execution_count": 83,
      "outputs": [
        {
          "output_type": "stream",
          "name": "stdout",
          "text": [
            "Converted Risk-Free Rate: 1.0%\n",
            "Converted Market Return: 0.1057%\n",
            "Converted Beta: 130.93630000000002%\n"
          ]
        }
      ]
    },
    {
      "cell_type": "code",
      "source": [
        "def calculate_expected_return(risk_free_rate, market_return, beta):\n",
        "    expected_return = risk_free_rate + beta * (market_return - risk_free_rate)\n",
        "    return expected_return\n",
        "\n",
        "def main():\n",
        "    risk_free_rate, market_return, beta = get_user_input()\n",
        "    expected_return = calculate_expected_return(risk_free_rate, market_return, beta)\n",
        "    display_results(expected_return)\n",
        "\n",
        "def get_user_input():\n",
        "    risk_free_rate = float(input(\"Enter the risk-free rate (%): \")) / 100\n",
        "    market_return = float(input(\"Enter the market return (%): \")) / 100\n",
        "    beta = float(input(\"Enter the beta: \"))\n",
        "    return risk_free_rate, market_return, beta\n",
        "\n",
        "def display_results(expected_return):\n",
        "    print(f\"\\nExpected Return: {expected_return * 100:.2f}%\")\n",
        "\n",
        "def main():\n",
        "    risk_free_rate, market_return, beta = get_user_input()\n",
        "    expected_return = calculate_expected_return(risk_free_rate, market_return, beta)\n",
        "    display_results(expected_return)\n",
        "\n",
        "if __name__ == \"__main__\":\n",
        "    main()\n"
      ],
      "metadata": {
        "id": "upFh2i_nk7RN"
      },
      "execution_count": null,
      "outputs": []
    },
    {
      "cell_type": "markdown",
      "source": [
        "# **User Interface - Interactive Widgets**"
      ],
      "metadata": {
        "id": "oUup2eNzoWVh"
      }
    },
    {
      "cell_type": "code",
      "source": [
        "from ipywidgets import interact, widgets\n",
        "import pandas as pd\n",
        "\n",
        "def capm_calculator(risk_free_rate, market_return, beta):\n",
        "    expected_return = risk_free_rate + beta * (market_return - risk_free_rate)\n",
        "    return expected_return\n",
        "\n",
        "# Interactive user interface using widgets\n",
        "@interact\n",
        "def calculate_capm(expected_risk_free_rate=widgets.FloatSlider(min=0, max=0.1, step=0.01, value=0.02, description='Risk-Free Rate'),\n",
        "                   expected_market_return=widgets.FloatSlider(min=0, max=0.2, step=0.01, value=0.08, description='Market Return'),\n",
        "                   expected_beta=widgets.FloatSlider(min=0, max=2, step=0.1, value=1.0, description='Beta')):\n",
        "\n",
        "    # Perform CAPM calculation\n",
        "    result = capm_calculator(expected_risk_free_rate, expected_market_return, expected_beta)\n",
        "\n",
        "    # Display result\n",
        "    print(f\"Expected Return: {result * 100:.2f}%\")\n"
      ],
      "metadata": {
        "colab": {
          "base_uri": "https://localhost:8080/",
          "height": 130,
          "referenced_widgets": [
            "7611a9ab51f2439f870df1b40827c700",
            "5870e8a6f30544c189ecaddcfd80dea0",
            "9f9b66fc258e4c75b0daae70250839fe",
            "a27378b5ac5d438da1f4c112c497693a",
            "f04c64380b254b2a925aa2bdacac61ca",
            "32437855caf64fb89c3e4caba3077348",
            "56413c241668484fb99bcb456b5ec676",
            "3cf7733e7e53468ebf289c6db43716e7",
            "0ec64673491a4396be1f950ef5e91658",
            "8af2f17050f6440cbb0de2c2bda1a584",
            "84e5808f735e4383bad1dff033584d2a",
            "c9de6d640b29492fac1de40e67240853",
            "2fd5c025e086400cab5c1255cb0a36e8"
          ]
        },
        "id": "cELVDQfX2dMT",
        "outputId": "396a8d29-9475-4e38-ee1d-9f030cc76964"
      },
      "execution_count": 79,
      "outputs": [
        {
          "output_type": "display_data",
          "data": {
            "text/plain": [
              "interactive(children=(FloatSlider(value=0.02, description='Risk-Free Rate', max=0.1, step=0.01), FloatSlider(v…"
            ],
            "application/vnd.jupyter.widget-view+json": {
              "version_major": 2,
              "version_minor": 0,
              "model_id": "7611a9ab51f2439f870df1b40827c700"
            }
          },
          "metadata": {}
        }
      ]
    },
    {
      "cell_type": "markdown",
      "source": [
        "# **User Interface - HTML Page**"
      ],
      "metadata": {
        "id": "_3RI1ra55RKJ"
      }
    },
    {
      "cell_type": "code",
      "source": [
        "# HTML code for the user interface\n",
        "html_code = '''\n",
        "<!DOCTYPE html>\n",
        "<html>\n",
        "<head>\n",
        "  <title>CAPM Calculator</title>\n",
        "  <script>\n",
        "    function calculateCAPM() {\n",
        "      var riskFreeRate = parseFloat(document.getElementById('riskFreeRate').value) / 100;\n",
        "      var marketReturn = parseFloat(document.getElementById('marketReturn').value) / 100;\n",
        "      var beta = parseFloat(document.getElementById('beta').value);\n",
        "\n",
        "      // CAPM Calculation\n",
        "      var expectedReturn = riskFreeRate + beta * (marketReturn - riskFreeRate);\n",
        "\n",
        "      // Display the result\n",
        "      document.getElementById('result').innerHTML = 'Expected Return: ' + (expectedReturn * 100).toFixed(2) + '%';\n",
        "    }\n",
        "  </script>\n",
        "</head>\n",
        "<body>\n",
        "  <h2>CAPM Calculator</h2>\n",
        "  <form>\n",
        "    <label for=\"riskFreeRate\">Risk-Free Rate (%): </label>\n",
        "    <input type=\"text\" id=\"riskFreeRate\"><br>\n",
        "\n",
        "    <label for=\"marketReturn\">Market Return (%): </label>\n",
        "    <input type=\"text\" id=\"marketReturn\"><br>\n",
        "\n",
        "    <label for=\"beta\">Beta: </label>\n",
        "    <input type=\"text\" id=\"beta\"><br>\n",
        "\n",
        "    <button type=\"button\" onclick=\"calculateCAPM()\">Calculate</button>\n",
        "  </form>\n",
        "\n",
        "  <div id=\"result\"></div>\n",
        "</body>\n",
        "</html>\n",
        "'''\n",
        "\n",
        "# Save HTML code to an HTML file\n",
        "with open('capm_calculator.html', 'w') as file:\n",
        "    file.write(html_code)"
      ],
      "metadata": {
        "id": "0JAhKllI3xUa"
      },
      "execution_count": 80,
      "outputs": []
    },
    {
      "cell_type": "code",
      "source": [
        "from IPython.display import HTML\n",
        "\n",
        "# Display the HTML file\n",
        "HTML(filename='capm_calculator.html')"
      ],
      "metadata": {
        "colab": {
          "base_uri": "https://localhost:8080/",
          "height": 160
        },
        "id": "djICUbBC5Sgm",
        "outputId": "17b4af37-d617-4440-b5cc-680af8fa3cb6"
      },
      "execution_count": 81,
      "outputs": [
        {
          "output_type": "execute_result",
          "data": {
            "text/plain": [
              "<IPython.core.display.HTML object>"
            ],
            "text/html": [
              "\n",
              "<!DOCTYPE html>\n",
              "<html>\n",
              "<head>\n",
              "  <title>CAPM Calculator</title>\n",
              "  <script>\n",
              "    function calculateCAPM() {\n",
              "      var riskFreeRate = parseFloat(document.getElementById('riskFreeRate').value) / 100;\n",
              "      var marketReturn = parseFloat(document.getElementById('marketReturn').value) / 100;\n",
              "      var beta = parseFloat(document.getElementById('beta').value);\n",
              "      \n",
              "      // CAPM Calculation\n",
              "      var expectedReturn = riskFreeRate + beta * (marketReturn - riskFreeRate);\n",
              "      \n",
              "      // Display the result\n",
              "      document.getElementById('result').innerHTML = 'Expected Return: ' + (expectedReturn * 100).toFixed(2) + '%';\n",
              "    }\n",
              "  </script>\n",
              "</head>\n",
              "<body>\n",
              "  <h2>CAPM Calculator</h2>\n",
              "  <form>\n",
              "    <label for=\"riskFreeRate\">Risk-Free Rate (%): </label>\n",
              "    <input type=\"text\" id=\"riskFreeRate\"><br>\n",
              "    \n",
              "    <label for=\"marketReturn\">Market Return (%): </label>\n",
              "    <input type=\"text\" id=\"marketReturn\"><br>\n",
              "    \n",
              "    <label for=\"beta\">Beta: </label>\n",
              "    <input type=\"text\" id=\"beta\"><br>\n",
              "    \n",
              "    <button type=\"button\" onclick=\"calculateCAPM()\">Calculate</button>\n",
              "  </form>\n",
              "  \n",
              "  <div id=\"result\"></div>\n",
              "</body>\n",
              "</html>\n"
            ]
          },
          "metadata": {},
          "execution_count": 81
        }
      ]
    },
    {
      "cell_type": "code",
      "source": [],
      "metadata": {
        "id": "AYtk2eZL5VN4"
      },
      "execution_count": null,
      "outputs": []
    }
  ]
}